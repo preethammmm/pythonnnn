{
  "nbformat": 4,
  "nbformat_minor": 0,
  "metadata": {
    "colab": {
      "provenance": [],
      "authorship_tag": "ABX9TyMztIGUnJDjVFADD6A5S1Ev",
      "include_colab_link": true
    },
    "kernelspec": {
      "name": "python3",
      "display_name": "Python 3"
    },
    "language_info": {
      "name": "python"
    }
  },
  "cells": [
    {
      "cell_type": "markdown",
      "metadata": {
        "id": "view-in-github",
        "colab_type": "text"
      },
      "source": [
        "<a href=\"https://colab.research.google.com/github/preethammmm/pythonnnn/blob/main/Regular_expression_080225.ipynb\" target=\"_parent\"><img src=\"https://colab.research.google.com/assets/colab-badge.svg\" alt=\"Open In Colab\"/></a>"
      ]
    },
    {
      "cell_type": "markdown",
      "source": [
        "##BASICS"
      ],
      "metadata": {
        "id": "EHAzCT1RSK1f"
      }
    },
    {
      "cell_type": "code",
      "execution_count": 13,
      "metadata": {
        "colab": {
          "base_uri": "https://localhost:8080/"
        },
        "id": "evBZdU3WQG01",
        "outputId": "df3724d4-cf76-4bb2-cdec-bb9c1855d008"
      },
      "outputs": [
        {
          "output_type": "stream",
          "name": "stdout",
          "text": [
            "I am James \n",
            "007 my number\n"
          ]
        }
      ],
      "source": [
        "print(\"I am James \\n007 my number\") #next line \\n"
      ]
    },
    {
      "cell_type": "code",
      "source": [
        "print(\"I am James \\t007 my number\") #tab space \\t"
      ],
      "metadata": {
        "colab": {
          "base_uri": "https://localhost:8080/"
        },
        "id": "EbaFztmDRSbt",
        "outputId": "ad6ac274-0e95-4dcc-fed5-f66647d290c4"
      },
      "execution_count": 12,
      "outputs": [
        {
          "output_type": "stream",
          "name": "stdout",
          "text": [
            "I am James \t007 my number\n"
          ]
        }
      ]
    },
    {
      "cell_type": "code",
      "source": [
        "print(\"I am James \\r007 my number\") #carriage return, only required part can be returned \\r"
      ],
      "metadata": {
        "colab": {
          "base_uri": "https://localhost:8080/"
        },
        "id": "18HoA-h2Rmg1",
        "outputId": "d28dde93-bf48-4c10-b75a-9b534302781a"
      },
      "execution_count": 11,
      "outputs": [
        {
          "output_type": "stream",
          "name": "stdout",
          "text": [
            "I am James \r007 my number\n"
          ]
        }
      ]
    },
    {
      "cell_type": "code",
      "source": [
        "import re"
      ],
      "metadata": {
        "id": "Evxo0KCdScuU"
      },
      "execution_count": 14,
      "outputs": []
    },
    {
      "cell_type": "code",
      "source": [
        "string=\"007 is the perfect man for this\"\n",
        "pattern=r'\\d' # returns only '0'\n",
        "number=r'\\d+' # reads all the 'int' at begining\n",
        "matching=re.match(pattern,string)\n",
        "matching=re.match(number,string)\n",
        "matching.group()\n"
      ],
      "metadata": {
        "colab": {
          "base_uri": "https://localhost:8080/",
          "height": 36
        },
        "id": "yWfC_T35TcWj",
        "outputId": "af4dd6b5-512b-4995-eccd-465cbe14a5b8"
      },
      "execution_count": 19,
      "outputs": [
        {
          "output_type": "execute_result",
          "data": {
            "text/plain": [
              "'007'"
            ],
            "application/vnd.google.colaboratory.intrinsic+json": {
              "type": "string"
            }
          },
          "metadata": {},
          "execution_count": 19
        }
      ]
    },
    {
      "cell_type": "code",
      "source": [
        "string=\"is the perfect man for this is 007\"\n",
        "pattern=r'\\d' # returns only '0'\n",
        "number=r'\\d+' # reads all the 'int' at begining\n",
        "matching=re.match(pattern,string)\n",
        "matching=re.match(number,string)\n",
        "matching.group() # returns Attribute errror"
      ],
      "metadata": {
        "colab": {
          "base_uri": "https://localhost:8080/",
          "height": 176
        },
        "id": "c1SShZJtTswv",
        "outputId": "5cbfc54f-bf49-47f0-a63c-8474f9d532b8"
      },
      "execution_count": 20,
      "outputs": [
        {
          "output_type": "error",
          "ename": "AttributeError",
          "evalue": "'NoneType' object has no attribute 'group'",
          "traceback": [
            "\u001b[0;31m---------------------------------------------------------------------------\u001b[0m",
            "\u001b[0;31mAttributeError\u001b[0m                            Traceback (most recent call last)",
            "\u001b[0;32m<ipython-input-20-7a857ced5d98>\u001b[0m in \u001b[0;36m<cell line: 0>\u001b[0;34m()\u001b[0m\n\u001b[1;32m      4\u001b[0m \u001b[0mmatching\u001b[0m\u001b[0;34m=\u001b[0m\u001b[0mre\u001b[0m\u001b[0;34m.\u001b[0m\u001b[0mmatch\u001b[0m\u001b[0;34m(\u001b[0m\u001b[0mpattern\u001b[0m\u001b[0;34m,\u001b[0m\u001b[0mstring\u001b[0m\u001b[0;34m)\u001b[0m\u001b[0;34m\u001b[0m\u001b[0;34m\u001b[0m\u001b[0m\n\u001b[1;32m      5\u001b[0m \u001b[0mmatching\u001b[0m\u001b[0;34m=\u001b[0m\u001b[0mre\u001b[0m\u001b[0;34m.\u001b[0m\u001b[0mmatch\u001b[0m\u001b[0;34m(\u001b[0m\u001b[0mnumber\u001b[0m\u001b[0;34m,\u001b[0m\u001b[0mstring\u001b[0m\u001b[0;34m)\u001b[0m\u001b[0;34m\u001b[0m\u001b[0;34m\u001b[0m\u001b[0m\n\u001b[0;32m----> 6\u001b[0;31m \u001b[0mmatching\u001b[0m\u001b[0;34m.\u001b[0m\u001b[0mgroup\u001b[0m\u001b[0;34m(\u001b[0m\u001b[0;34m)\u001b[0m\u001b[0;34m\u001b[0m\u001b[0;34m\u001b[0m\u001b[0m\n\u001b[0m",
            "\u001b[0;31mAttributeError\u001b[0m: 'NoneType' object has no attribute 'group'"
          ]
        }
      ]
    },
    {
      "cell_type": "code",
      "source": [
        "#re.search()\n",
        "import re\n",
        "pattern = r'\\d+' # r: raw data\n",
        "string = ' is the perfect man for this and 001 is at his best'\n",
        "matching = re.search(pattern, string) # returns only a single int\n",
        "matching.group()"
      ],
      "metadata": {
        "colab": {
          "base_uri": "https://localhost:8080/",
          "height": 36
        },
        "id": "_2TvsjdAUXFV",
        "outputId": "a9971eae-010a-4d09-ffa3-e8ab386c0e05"
      },
      "execution_count": 24,
      "outputs": [
        {
          "output_type": "execute_result",
          "data": {
            "text/plain": [
              "'001'"
            ],
            "application/vnd.google.colaboratory.intrinsic+json": {
              "type": "string"
            }
          },
          "metadata": {},
          "execution_count": 24
        }
      ]
    },
    {
      "cell_type": "code",
      "source": [
        "#re.findall\n",
        "string=\"007 is the perfect man for this and Bond007 is at his best\"\n",
        "pattern = r'\\d+' # reads all the 'int' in the 'string'\n",
        "matching=re.findall(pattern,string) # returns multiple int present in string\n",
        "matching"
      ],
      "metadata": {
        "colab": {
          "base_uri": "https://localhost:8080/"
        },
        "id": "H6RB7ReLU2Wx",
        "outputId": "8b0dd180-8247-4200-d859-97e9b732cee4"
      },
      "execution_count": 30,
      "outputs": [
        {
          "output_type": "execute_result",
          "data": {
            "text/plain": [
              "['007', '007']"
            ]
          },
          "metadata": {},
          "execution_count": 30
        }
      ]
    },
    {
      "cell_type": "code",
      "source": [
        "#re.sub()\n",
        "import re\n",
        "pattern=r'\\d'\n",
        "string=\"007 is the perfect man for this and Bond-007 is at his best\"\n",
        "matching=re.sub(pattern,'*',string) # hides the 'int' and replaces with any other\n",
        "matching"
      ],
      "metadata": {
        "colab": {
          "base_uri": "https://localhost:8080/",
          "height": 36
        },
        "id": "9hJVVG22VQIW",
        "outputId": "57fe8953-1040-485f-9bb0-381acafc8eb3"
      },
      "execution_count": 36,
      "outputs": [
        {
          "output_type": "execute_result",
          "data": {
            "text/plain": [
              "'*** is the perfect man for this and Bond-*** is at his best'"
            ],
            "application/vnd.google.colaboratory.intrinsic+json": {
              "type": "string"
            }
          },
          "metadata": {},
          "execution_count": 36
        }
      ]
    },
    {
      "cell_type": "markdown",
      "source": [
        "EXAMPLE"
      ],
      "metadata": {
        "id": "7K3BXtcmYX6a"
      }
    },
    {
      "cell_type": "code",
      "source": [
        "import re"
      ],
      "metadata": {
        "id": "uZ5F-A4GYXmN"
      },
      "execution_count": 38,
      "outputs": []
    },
    {
      "cell_type": "code",
      "source": [
        "text = \"\"\"\n",
        "\"Hello! This is an example text for practicing data extraction.\n",
        "You can reach me at example@email.com or find me on Twitter @username.\n",
        "Check out my latest blog post using #DataScience and #Python.\n",
        "I have 15 years of experience and my phone number is 123-456-7890.\n",
        "Let's connect! #AI #MachineLearning @GoogleColab\"\"\"\"\""
      ],
      "metadata": {
        "id": "rtrCSkROXAtw"
      },
      "execution_count": 39,
      "outputs": []
    },
    {
      "cell_type": "code",
      "source": [
        "#finding emails\n",
        "emailpattern=r'[a-zA-Z0-9._%+-]+@[a-zA-Z0-9.-]+\\.[a-zA-Z]{3,}' #before@+after@.com and also to consider only 3 elements after the '.' -{3, }\n",
        "emails = re.findall(emailpattern, text)\n",
        "emails"
      ],
      "metadata": {
        "colab": {
          "base_uri": "https://localhost:8080/"
        },
        "id": "cCfuUQzfYNqJ",
        "outputId": "38e385fc-a813-45de-8c43-3aa4ecc37465"
      },
      "execution_count": 41,
      "outputs": [
        {
          "output_type": "execute_result",
          "data": {
            "text/plain": [
              "['example@email.com']"
            ]
          },
          "metadata": {},
          "execution_count": 41
        }
      ]
    },
    {
      "cell_type": "code",
      "source": [
        "# finding hashtags\n",
        "# r\"#\\w+\":raw string literal in Python, denoted by the r prefix.\n",
        "# Raw strings treat backslashes as literal characters\n",
        "# \\w: matches any alphanumeric character (letters, numbers, and underscore).\n",
        "# +:  \"one or more occurrences\".\n",
        "hashpatern=r'#\\w+'\n",
        "hashtags=re.findall(hashpatern,text)\n",
        "hashtags"
      ],
      "metadata": {
        "colab": {
          "base_uri": "https://localhost:8080/"
        },
        "id": "cFuGgMxPaMta",
        "outputId": "af1164d9-a97c-495c-dc11-eabd6075bdd1"
      },
      "execution_count": 44,
      "outputs": [
        {
          "output_type": "execute_result",
          "data": {
            "text/plain": [
              "['#DataScience', '#Python', '#AI', '#MachineLearning']"
            ]
          },
          "metadata": {},
          "execution_count": 44
        }
      ]
    },
    {
      "cell_type": "code",
      "source": [
        "# finding numbers\n",
        "numberpattern=r'\\d+'\n",
        "numbers=re.findall(numberpattern,text)\n",
        "numbers"
      ],
      "metadata": {
        "colab": {
          "base_uri": "https://localhost:8080/"
        },
        "id": "Jf-YV2DDaxOD",
        "outputId": "911fa150-2153-4254-d4b2-ce758f8b224c"
      },
      "execution_count": 45,
      "outputs": [
        {
          "output_type": "execute_result",
          "data": {
            "text/plain": [
              "['15', '123', '456', '7890']"
            ]
          },
          "metadata": {},
          "execution_count": 45
        }
      ]
    },
    {
      "cell_type": "code",
      "source": [
        "# mentions\n",
        "mentionpattern=r'@\\w+'\n",
        "mentions=re.findall(mentionpattern,text)\n",
        "mentions"
      ],
      "metadata": {
        "colab": {
          "base_uri": "https://localhost:8080/"
        },
        "id": "kzqrxEdDbd0K",
        "outputId": "3fb5e75b-8e16-4240-b10d-6105a3c2509b"
      },
      "execution_count": 46,
      "outputs": [
        {
          "output_type": "execute_result",
          "data": {
            "text/plain": [
              "['@email', '@username', '@GoogleColab']"
            ]
          },
          "metadata": {},
          "execution_count": 46
        }
      ]
    },
    {
      "cell_type": "code",
      "source": [],
      "metadata": {
        "id": "ty-cril7bh-K"
      },
      "execution_count": null,
      "outputs": []
    }
  ]
}