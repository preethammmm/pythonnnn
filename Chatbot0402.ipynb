{
  "nbformat": 4,
  "nbformat_minor": 0,
  "metadata": {
    "colab": {
      "provenance": [],
      "gpuType": "T4",
      "authorship_tag": "ABX9TyPzYphGoKMXhr+wqIzUKazP",
      "include_colab_link": true
    },
    "kernelspec": {
      "name": "python3",
      "display_name": "Python 3"
    },
    "language_info": {
      "name": "python"
    },
    "accelerator": "GPU"
  },
  "cells": [
    {
      "cell_type": "markdown",
      "metadata": {
        "id": "view-in-github",
        "colab_type": "text"
      },
      "source": [
        "<a href=\"https://colab.research.google.com/github/preethammmm/pythonnnn/blob/main/Chatbot0402.ipynb\" target=\"_parent\"><img src=\"https://colab.research.google.com/assets/colab-badge.svg\" alt=\"Open In Colab\"/></a>"
      ]
    },
    {
      "cell_type": "code",
      "execution_count": 1,
      "metadata": {
        "colab": {
          "base_uri": "https://localhost:8080/"
        },
        "id": "oHf_2ohuIEl-",
        "outputId": "1682ebe4-cbe3-46dd-9768-076d692d6e22"
      },
      "outputs": [
        {
          "name": "stdout",
          "output_type": "stream",
          "text": [
            "test sentence\n"
          ]
        }
      ],
      "source": [
        "sentence = input()"
      ]
    },
    {
      "cell_type": "code",
      "source": [
        "exit_words = ['esc','quit','stop', 'exit']"
      ],
      "metadata": {
        "id": "G_8Rq9wOIpJm"
      },
      "execution_count": 2,
      "outputs": []
    },
    {
      "cell_type": "code",
      "source": [
        "def uppercase(sentence): #parameter-sentence-inside()\n",
        "    return sentence.upper()"
      ],
      "metadata": {
        "id": "Vnzx4XKmI3Ss"
      },
      "execution_count": 19,
      "outputs": []
    },
    {
      "cell_type": "code",
      "source": [
        "x = uppercase(sentence)  #only strings are passed"
      ],
      "metadata": {
        "id": "k0XTztLtJYtg"
      },
      "execution_count": 20,
      "outputs": []
    },
    {
      "cell_type": "code",
      "source": [
        "x"
      ],
      "metadata": {
        "colab": {
          "base_uri": "https://localhost:8080/",
          "height": 36
        },
        "id": "4DHCSh0BKPUR",
        "outputId": "287b56d7-8838-42ac-df01-072050044431"
      },
      "execution_count": 21,
      "outputs": [
        {
          "output_type": "execute_result",
          "data": {
            "text/plain": [
              "\"LOWERCASE('AJNSJDNFIDOJNASININFIL;\""
            ],
            "application/vnd.google.colaboratory.intrinsic+json": {
              "type": "string"
            }
          },
          "metadata": {},
          "execution_count": 21
        }
      ]
    },
    {
      "cell_type": "code",
      "source": [
        "sentence = input()"
      ],
      "metadata": {
        "colab": {
          "base_uri": "https://localhost:8080/"
        },
        "id": "vX_ZId1ZMKVU",
        "outputId": "d942c289-52f3-4898-8f1c-f1a015ec4d01"
      },
      "execution_count": 22,
      "outputs": [
        {
          "name": "stdout",
          "output_type": "stream",
          "text": [
            "\n"
          ]
        }
      ]
    },
    {
      "cell_type": "code",
      "source": [
        "exit_words = ['esc','quit','stop', 'exit','shutup']"
      ],
      "metadata": {
        "id": "kdsLZdOkMAtH"
      },
      "execution_count": 28,
      "outputs": []
    },
    {
      "cell_type": "code",
      "source": [
        "def lowercase(sentence):\n",
        "    return sentence.lower()"
      ],
      "metadata": {
        "id": "d96tkW2mKQ6F"
      },
      "execution_count": 24,
      "outputs": []
    },
    {
      "cell_type": "code",
      "source": [
        "x = lowercase(sentence)\n"
      ],
      "metadata": {
        "id": "6C2IlKXwLzI2"
      },
      "execution_count": 25,
      "outputs": []
    },
    {
      "cell_type": "code",
      "source": [
        "x"
      ],
      "metadata": {
        "colab": {
          "base_uri": "https://localhost:8080/",
          "height": 36
        },
        "id": "mqMRuvqIL6e2",
        "outputId": "b4386629-fd9f-4f4b-d3d5-64faf0e5d2aa"
      },
      "execution_count": 16,
      "outputs": [
        {
          "output_type": "execute_result",
          "data": {
            "text/plain": [
              "\"lowercase('ajnsjdnfidojnasininfil;\""
            ],
            "application/vnd.google.colaboratory.intrinsic+json": {
              "type": "string"
            }
          },
          "metadata": {},
          "execution_count": 16
        }
      ]
    },
    {
      "cell_type": "code",
      "source": [
        "sentence = input()"
      ],
      "metadata": {
        "colab": {
          "base_uri": "https://localhost:8080/"
        },
        "id": "8FibboYfPC5v",
        "outputId": "e04ad638-0127-422b-ee52-1d1ba99ba53d"
      },
      "execution_count": 29,
      "outputs": [
        {
          "name": "stdout",
          "output_type": "stream",
          "text": [
            "Wait, I'm coming!!, can't you wait a bit longer\n"
          ]
        }
      ]
    },
    {
      "cell_type": "code",
      "source": [
        "!pip install nltk"
      ],
      "metadata": {
        "colab": {
          "base_uri": "https://localhost:8080/"
        },
        "id": "FKgdp4KePt-e",
        "outputId": "b656adab-3a08-43b6-b45c-0f8f29909c1d"
      },
      "execution_count": 31,
      "outputs": [
        {
          "output_type": "stream",
          "name": "stdout",
          "text": [
            "Requirement already satisfied: nltk in /usr/local/lib/python3.11/dist-packages (3.8.1)\n",
            "Requirement already satisfied: click in /usr/local/lib/python3.11/dist-packages (from nltk) (8.1.8)\n",
            "Requirement already satisfied: joblib in /usr/local/lib/python3.11/dist-packages (from nltk) (1.4.2)\n",
            "Requirement already satisfied: regex>=2021.8.3 in /usr/local/lib/python3.11/dist-packages (from nltk) (2024.11.6)\n",
            "Requirement already satisfied: tqdm in /usr/local/lib/python3.11/dist-packages (from nltk) (4.67.1)\n"
          ]
        }
      ]
    },
    {
      "cell_type": "code",
      "source": [
        "import nltk\n",
        "nltk.download('stopwords')"
      ],
      "metadata": {
        "colab": {
          "base_uri": "https://localhost:8080/"
        },
        "id": "dJIbSNa2P1fs",
        "outputId": "4795b330-2916-44f1-abcf-c7306f9ed07b"
      },
      "execution_count": 32,
      "outputs": [
        {
          "output_type": "stream",
          "name": "stderr",
          "text": [
            "[nltk_data] Downloading package stopwords to /root/nltk_data...\n",
            "[nltk_data]   Unzipping corpora/stopwords.zip.\n"
          ]
        },
        {
          "output_type": "execute_result",
          "data": {
            "text/plain": [
              "True"
            ]
          },
          "metadata": {},
          "execution_count": 32
        }
      ]
    },
    {
      "cell_type": "code",
      "source": [
        "from nltk.corpus import stopwords\n",
        "from nltk.tokenize import word_tokenize"
      ],
      "metadata": {
        "id": "Pc3YgC5uP7pH"
      },
      "execution_count": 33,
      "outputs": []
    },
    {
      "cell_type": "code",
      "source": [
        "def stopwrodsremoval(sentence):\n",
        "    stopwords = set(stopwords.words('english'))\n",
        "    words = word_tokenize(sentence)\n",
        "    filtered_words = [word for word in words if word.lower() not in stopwords]\n",
        "    return ' '.join(filtered_words)"
      ],
      "metadata": {
        "id": "xL8DvA_9O2xE"
      },
      "execution_count": 34,
      "outputs": []
    },
    {
      "cell_type": "code",
      "source": [
        "x = input()\n",
        "while x not in exit_words:\n",
        "    choice = input(\"Give 1 or 2:\")\n",
        "    if choice == '1':\n",
        "        print(lowercase(x))\n",
        "    elif choice == '2':\n",
        "        print(uppercase(x))\n",
        "    elif choice == '3':\n",
        "        print(stopwrodsremoval(x))\n",
        "    else:\n",
        "        print(\"Invalid choice\")\n",
        "    x = input()\n"
      ],
      "metadata": {
        "colab": {
          "base_uri": "https://localhost:8080/"
        },
        "id": "It9HmqGYMYQQ",
        "outputId": "e4080fb7-8018-4985-f8ce-03cf7b74ec64"
      },
      "execution_count": 27,
      "outputs": [
        {
          "name": "stdout",
          "output_type": "stream",
          "text": [
            "exit_words = ['esc','quit','stop', 'exit']\n",
            "Give 1 or 2:1\n",
            "exit_words = ['esc','quit','stop', 'exit']\n",
            "exit_words = ['esc','quit','stop', 'exit']\n",
            "Give 1 or 2:2\n",
            "EXIT_WORDS = ['ESC','QUIT','STOP', 'EXIT']\n",
            "exit\n"
          ]
        }
      ]
    },
    {
      "cell_type": "code",
      "source": [],
      "metadata": {
        "id": "JOUnUVAPMsIQ"
      },
      "execution_count": null,
      "outputs": []
    }
  ]
}